{
  "nbformat": 4,
  "nbformat_minor": 0,
  "metadata": {
    "colab": {
      "provenance": [],
      "toc_visible": true
    },
    "kernelspec": {
      "name": "python3",
      "display_name": "Python 3"
    }
  },
  "cells": [
    {
      "cell_type": "markdown",
      "source": [
        "# Знайомство з мовою програмування Python\n"
      ],
      "metadata": {
        "id": "dl2yxNGGUP79"
      }
    },
    {
      "cell_type": "markdown",
      "source": [
        "**Python** - це високорівнева мова програмування, яка відзначається наступними п'ятьма перевагами:\n",
        "\n",
        "  1.**Простота** і читабельність коду: Python відомий своєю простотою синтаксису, який нагадує англійську мову, що робить його легкою для вивчення і розуміння. Ця особливість робить Python відмінним вибором для початківців у програмуванні.\n",
        "\n",
        "  2.**Велика** **спільнота** і багатий екосистема: Python має широку спільноту користувачів і велику кількість бібліотек і модулів, які дозволяють розробникам швидко розширювати функціональність своїх програм і веб-додатків.\n",
        "\n",
        "3.**Платформонезалежність**: Python підтримується на багатьох операційних системах, що дозволяє розробникам створювати кросплатформенні програми, які працюють на різних системах без значних модифікацій.\n",
        "\n",
        "4.**Розширюваність** і вбудовуваність: Python можна використовувати для розробки різноманітних додатків, від веб-додатків до ігор, наукових досліджень і багатьох інших завдань. Він також може бути вбудованим у інші мови програмування, такі як C і C++, для прискорення розробки.\n",
        "\n",
        "5.**Зручність** для наукових обчислень: Python є популярним в наукових галузях через багато бібліотек, такі як NumPy, SciPy і Matplotlib, які допомагають виконувати обчислення, обробку даних і візуалізацію даних.\n",
        "\n"
      ],
      "metadata": {
        "id": "hfNAlt_iUzOs"
      }
    },
    {
      "cell_type": "markdown",
      "source": [
        "# Перший код"
      ],
      "metadata": {
        "id": "H5VpWIgQVbV9"
      }
    },
    {
      "cell_type": "code",
      "source": [
        "import random\n",
        "\n",
        "# Генеруємо випадкове ціле число в діапазоні від 1 до 100\n",
        "random_number = random.randint(1, 100)\n",
        "\n",
        "# Перевіряємо, чи випадкове число парне чи непарне\n",
        "if random_number % 2 == 0:\n",
        "    print(f\"Випадкове число {random_number} є парним.\")\n",
        "else:\n",
        "    print(f\"Випадкове число {random_number} є непарним.\")\n"
      ],
      "metadata": {
        "colab": {
          "base_uri": "https://localhost:8080/"
        },
        "id": "7aqLtwKzVfHB",
        "outputId": "f599a20b-f04a-460a-e4a4-358732fbf825"
      },
      "execution_count": null,
      "outputs": [
        {
          "output_type": "stream",
          "name": "stdout",
          "text": [
            "Випадкове число 11 є непарним.\n"
          ]
        }
      ]
    },
    {
      "cell_type": "markdown",
      "source": [
        "# модуль **random**"
      ],
      "metadata": {
        "id": "PC5AQl1EWIvG"
      }
    },
    {
      "cell_type": "code",
      "source": [
        "import random"
      ],
      "metadata": {
        "id": "SZPc4yBuWOmQ"
      },
      "execution_count": null,
      "outputs": []
    },
    {
      "cell_type": "markdown",
      "source": [
        "\"**import random**\" Спочатку ми імпортуємо бібліотеку random, що дозволить нам генерувати випадкові числа."
      ],
      "metadata": {
        "id": "LhCSDQfSWUMg"
      }
    },
    {
      "cell_type": "code",
      "source": [
        "random_number = random.randint(1, 100)"
      ],
      "metadata": {
        "id": "Mw3MT0gmWgj3"
      },
      "execution_count": null,
      "outputs": []
    },
    {
      "cell_type": "markdown",
      "source": [
        "**random_number** = random.randint(1, 100) // Ми використовуємо функцію randint з бібліотеки random, щоб згенерувати випадкове ціле число в діапазоні від 1 до 100, і результат зберігається у змінній random_number."
      ],
      "metadata": {
        "id": "TPkok7Y1WigP"
      }
    },
    {
      "cell_type": "markdown",
      "source": [
        "# Умовний оператор if"
      ],
      "metadata": {
        "id": "9CK_xkmRWvAk"
      }
    },
    {
      "cell_type": "code",
      "source": [
        "if random_number % 2 == 0:"
      ],
      "metadata": {
        "id": "iKKWcFOjW1mt"
      },
      "execution_count": null,
      "outputs": []
    },
    {
      "cell_type": "markdown",
      "source": [
        "Ми використовуємо умовний оператор if, щоб перевірити, чи є число парним. Ми робимо це, обчислюючи остачу від ділення числа на 2 за допомогою оператора %. Якщо остача дорівнює 0, це означає, що число парне."
      ],
      "metadata": {
        "id": "8vYDLZH0W8FA"
      }
    },
    {
      "cell_type": "markdown",
      "source": [
        "# Висновок"
      ],
      "metadata": {
        "id": "X9uq1Up2XABQ"
      }
    },
    {
      "cell_type": "markdown",
      "source": [
        "Отже, цей код генерує випадкове число від 1 до 100 і визначає, чи воно парне чи непарне, виводячи відповідне повідомлення на екран."
      ],
      "metadata": {
        "id": "O5owlHwWXHAm"
      }
    }
  ]
}